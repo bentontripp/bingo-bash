{
 "cells": [
  {
   "cell_type": "code",
   "execution_count": 2,
   "source": [
    "type(1) != int"
   ],
   "outputs": [
    {
     "output_type": "execute_result",
     "data": {
      "text/plain": [
       "False"
      ]
     },
     "metadata": {},
     "execution_count": 2
    }
   ],
   "metadata": {}
  }
 ],
 "metadata": {
  "orig_nbformat": 4,
  "language_info": {
   "name": "python",
   "version": "3.9.6",
   "mimetype": "text/x-python",
   "codemirror_mode": {
    "name": "ipython",
    "version": 3
   },
   "pygments_lexer": "ipython3",
   "nbconvert_exporter": "python",
   "file_extension": ".py"
  },
  "kernelspec": {
   "name": "python3",
   "display_name": "Python 3.9.6 64-bit ('py39': conda)"
  },
  "interpreter": {
   "hash": "9ec482134c464c9079c0d481accfc026e1914d3cbb18f4b3978ce520dc6f2a0b"
  }
 },
 "nbformat": 4,
 "nbformat_minor": 2
}